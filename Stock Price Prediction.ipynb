{
 "cells": [
  {
   "cell_type": "markdown",
   "metadata": {
    "collapsed": true
   },
   "source": [
    "Dieses Programm sagt die Aktienkurse von Facebook voraus"
   ]
  },
  {
   "cell_type": "code",
   "execution_count": 1,
   "metadata": {},
   "outputs": [
    {
     "name": "stdout",
     "output_type": "stream",
     "text": [
      "Requirement already satisfied: quandl in /home/nbuser/anaconda3_501/lib/python3.6/site-packages (3.5.0)\n",
      "Requirement already satisfied: requests>=2.7.0 in /home/nbuser/anaconda3_501/lib/python3.6/site-packages (from quandl) (2.22.0)\n",
      "Requirement already satisfied: pandas>=0.14 in /home/nbuser/anaconda3_501/lib/python3.6/site-packages (from quandl) (0.23.4)\n",
      "Requirement already satisfied: python-dateutil in /home/nbuser/anaconda3_501/lib/python3.6/site-packages (from quandl) (2.8.1)\n",
      "Requirement already satisfied: numpy>=1.8 in /home/nbuser/anaconda3_501/lib/python3.6/site-packages (from quandl) (1.16.2)\n",
      "Requirement already satisfied: more-itertools in /home/nbuser/anaconda3_501/lib/python3.6/site-packages (from quandl) (4.3.0)\n",
      "Requirement already satisfied: inflection>=0.3.1 in /home/nbuser/anaconda3_501/lib/python3.6/site-packages (from quandl) (0.3.1)\n",
      "Requirement already satisfied: six in /home/nbuser/anaconda3_501/lib/python3.6/site-packages (from quandl) (1.11.0)\n",
      "Requirement already satisfied: chardet<3.1.0,>=3.0.2 in /home/nbuser/anaconda3_501/lib/python3.6/site-packages (from requests>=2.7.0->quandl) (3.0.4)\n",
      "Requirement already satisfied: idna<2.9,>=2.5 in /home/nbuser/anaconda3_501/lib/python3.6/site-packages (from requests>=2.7.0->quandl) (2.7)\n",
      "Requirement already satisfied: certifi>=2017.4.17 in /home/nbuser/anaconda3_501/lib/python3.6/site-packages (from requests>=2.7.0->quandl) (2018.10.15)\n",
      "Requirement already satisfied: urllib3!=1.25.0,!=1.25.1,<1.26,>=1.21.1 in /home/nbuser/anaconda3_501/lib/python3.6/site-packages (from requests>=2.7.0->quandl) (1.23)\n",
      "Requirement already satisfied: pytz>=2011k in /home/nbuser/anaconda3_501/lib/python3.6/site-packages (from pandas>=0.14->quandl) (2019.3)\n",
      "\u001b[33mWARNING: You are using pip version 19.3.1; however, version 20.0.2 is available.\n",
      "You should consider upgrading via the 'pip install --upgrade pip' command.\u001b[0m\n"
     ]
    }
   ],
   "source": [
    "# Installieren der Quandl_Erweiterung\n",
    "!pip install quandl"
   ]
  },
  {
   "cell_type": "code",
   "execution_count": 2,
   "metadata": {},
   "outputs": [],
   "source": [
    "# Importieren der Pakete und Modelle \n",
    "import quandl\n",
    "import numpy as np\n",
    "from sklearn.linear_model import LinearRegression\n",
    "from sklearn.svm import SVR\n",
    "from sklearn.model_selection import train_test_split"
   ]
  },
  {
   "cell_type": "code",
   "execution_count": 4,
   "metadata": {},
   "outputs": [
    {
     "name": "stdout",
     "output_type": "stream",
     "text": [
      "             Open   High    Low    Close       Volume  Ex-Dividend  \\\n",
      "Date                                                                 \n",
      "2012-05-18  42.05  45.00  38.00  38.2318  573576400.0          0.0   \n",
      "2012-05-21  36.53  36.66  33.00  34.0300  168192700.0          0.0   \n",
      "2012-05-22  32.61  33.59  30.94  31.0000  101786600.0          0.0   \n",
      "2012-05-23  31.37  32.50  31.36  32.0000   73600000.0          0.0   \n",
      "2012-05-24  32.95  33.21  31.77  33.0300   50237200.0          0.0   \n",
      "\n",
      "            Split Ratio  Adj. Open  Adj. High  Adj. Low  Adj. Close  \\\n",
      "Date                                                                  \n",
      "2012-05-18          1.0      42.05      45.00     38.00     38.2318   \n",
      "2012-05-21          1.0      36.53      36.66     33.00     34.0300   \n",
      "2012-05-22          1.0      32.61      33.59     30.94     31.0000   \n",
      "2012-05-23          1.0      31.37      32.50     31.36     32.0000   \n",
      "2012-05-24          1.0      32.95      33.21     31.77     33.0300   \n",
      "\n",
      "            Adj. Volume  \n",
      "Date                     \n",
      "2012-05-18  573576400.0  \n",
      "2012-05-21  168192700.0  \n",
      "2012-05-22  101786600.0  \n",
      "2012-05-23   73600000.0  \n",
      "2012-05-24   50237200.0  \n"
     ]
    }
   ],
   "source": [
    "# Importieren der Aktienkurse aus Quandl (hier FB(Facebook))\n",
    "df = quandl.get(\"WIKI/FB\")\n",
    "# Anzeigen des Datensatzes\n",
    "print(df.head())"
   ]
  },
  {
   "cell_type": "code",
   "execution_count": 5,
   "metadata": {},
   "outputs": [
    {
     "name": "stdout",
     "output_type": "stream",
     "text": [
      "            Adj. Close\n",
      "Date                  \n",
      "2012-05-18     38.2318\n",
      "2012-05-21     34.0300\n",
      "2012-05-22     31.0000\n",
      "2012-05-23     32.0000\n",
      "2012-05-24     33.0300\n"
     ]
    }
   ],
   "source": [
    "# Benötigt wird nur der Adj.Close-Preis, sodass ein neues Dataframe erstellt wird, welches nur 'Adj.Close' beinhaltet\n",
    "df = df[['Adj. Close']]\n",
    "# Anzeigen des aktualisierten Dataframes\n",
    "print(df.head())"
   ]
  },
  {
   "cell_type": "code",
   "execution_count": 6,
   "metadata": {},
   "outputs": [
    {
     "name": "stdout",
     "output_type": "stream",
     "text": [
      "            Adj. Close  Prediction\n",
      "Date                              \n",
      "2018-03-07      183.71      169.39\n",
      "2018-03-08      182.34      164.89\n",
      "2018-03-09      185.23      159.39\n",
      "2018-03-12      184.76      160.06\n",
      "2018-03-13      181.88      152.19\n",
      "2018-03-14      184.19         NaN\n",
      "2018-03-15      183.86         NaN\n",
      "2018-03-16      185.09         NaN\n",
      "2018-03-19      172.56         NaN\n",
      "2018-03-20      168.15         NaN\n",
      "2018-03-21      169.39         NaN\n",
      "2018-03-22      164.89         NaN\n",
      "2018-03-23      159.39         NaN\n",
      "2018-03-26      160.06         NaN\n",
      "2018-03-27      152.19         NaN\n"
     ]
    }
   ],
   "source": [
    "# Erstellen einer Variable für die Vorhersagen [forecast_out], dessen n-Wert (vorausgesagte Tage(hier: 10)) sich beliebig anpassen lässt.\n",
    "forecast_out = 10\n",
    "# Erstellen einer weiteren Spalte neben 'Adj.Close' names 'Prediction', welche die Zielvariable darstellt.\n",
    "# Hierfür wird 'Adj.Close' dupliziert und um das n von forecast_out hochgerückt.\n",
    "# So entsteht eine Lücke zwischen den letzten 'n' von 'Adj.Close' denen bisher kein Wert gegenübersteht.\n",
    "df['Prediction'] = df[['Adj. Close']].shift(-forecast_out)\n",
    "# Visualieren des neuen Datensatzes mit den Spalten 'Adj. Close' und 'Prediction'\n",
    "print(df.tail(15))\n",
    "\n",
    "# Das Vorgehen wird deutlich, wenn die letzten 15 Zeilen des Datensatzes ausgegeben werden sollen, während das n=10 beträgt.\n",
    "# Die 'Adj.Close'-Werte wurde, um den Wert 'n' nach oben gerückt, sodass eine wertlose Lücke entsteht, die später vorhergesagt werden soll.\n"
   ]
  },
  {
   "cell_type": "code",
   "execution_count": 7,
   "metadata": {},
   "outputs": [
    {
     "name": "stdout",
     "output_type": "stream",
     "text": [
      "[[ 38.2318]\n",
      " [ 34.03  ]\n",
      " [ 31.    ]\n",
      " ...\n",
      " [185.23  ]\n",
      " [184.76  ]\n",
      " [181.88  ]]\n"
     ]
    }
   ],
   "source": [
    "# Erstellen des unabhängigen Datensatzes (x) mit der Spalte 'Adj.Close'\n",
    "# Konvertieren des Dataframe zu einem Numpy Array und entfernen der 'Prediction'-Spalte\n",
    "X = np.array(df.drop(['Prediction'], 1))\n",
    "# Entfernen der letzten n Zeilen\n",
    "X = X[:-forecast_out]\n",
    "print(X)"
   ]
  },
  {
   "cell_type": "code",
   "execution_count": 8,
   "metadata": {},
   "outputs": [
    {
     "name": "stdout",
     "output_type": "stream",
     "text": [
      "[ 26.9    25.869  26.81  ... 159.39  160.06  152.19 ]\n"
     ]
    }
   ],
   "source": [
    "# Erstellen des Zieldatensatzes (y) mit der Spalte 'Prediction'\n",
    "# Konvertieren des Datenframe zu einem Numpy Array (alle Daten inklusive NaN)\n",
    "y = np.array(df['Prediction'])\n",
    "# Einbeziehen aller Werte bis auf n bzw. forecast_out\n",
    "y = y[:-forecast_out]\n",
    "print(y)"
   ]
  },
  {
   "cell_type": "code",
   "execution_count": 9,
   "metadata": {},
   "outputs": [],
   "source": [
    "# Aufteilen der x & y  Datensätze in Trainings- und Testdatensätze\n",
    "# Verhältnis 80/20\n",
    "x_train, x_test, y_train, y_test = train_test_split(X, y, test_size=0.2) "
   ]
  },
  {
   "cell_type": "code",
   "execution_count": 10,
   "metadata": {},
   "outputs": [
    {
     "data": {
      "text/plain": [
       "SVR(C=1000.0, cache_size=200, coef0=0.0, degree=3, epsilon=0.1, gamma=0.1,\n",
       "  kernel='rbf', max_iter=-1, shrinking=True, tol=0.001, verbose=False)"
      ]
     },
     "execution_count": 10,
     "metadata": {},
     "output_type": "execute_result"
    }
   ],
   "source": [
    "# Erstellen des SVM-Modells (Regressor)\n",
    "svr_rbf = SVR(kernel='rbf', C=1e3, gamma=0.1)\n",
    "# Trainieren des SVM-Modells (Regressor)\n",
    "svr_rbf.fit(x_train, y_train)"
   ]
  },
  {
   "cell_type": "code",
   "execution_count": 11,
   "metadata": {},
   "outputs": [
    {
     "name": "stdout",
     "output_type": "stream",
     "text": [
      "svm_confidence:  0.9916307276100916\n"
     ]
    }
   ],
   "source": [
    "# Evaluation der Genauigkeit, angegeben als Koeffizient des R2 der Vorhersage.\n",
    "# Bestmöglicher Wert = 1.0\n",
    "\n",
    "# Erstellen der Variable svm_confidence\n",
    "svm_confidence = svr_rbf.score(x_test, y_test)\n",
    "# Anzeigen der Genauigkeit R2 der Support Vector Machine:\n",
    "print('svm_confidence: ', svm_confidence)\n"
   ]
  },
  {
   "cell_type": "code",
   "execution_count": 12,
   "metadata": {},
   "outputs": [
    {
     "data": {
      "text/plain": [
       "LinearRegression(copy_X=True, fit_intercept=True, n_jobs=None,\n",
       "         normalize=False)"
      ]
     },
     "execution_count": 12,
     "metadata": {},
     "output_type": "execute_result"
    }
   ],
   "source": [
    "# Erstellen der Linearen Regression\n",
    "lr = LinearRegression()\n",
    "# Trainieren der Linearen Regression\n",
    "lr.fit(x_train, y_train)"
   ]
  },
  {
   "cell_type": "code",
   "execution_count": 13,
   "metadata": {},
   "outputs": [
    {
     "name": "stdout",
     "output_type": "stream",
     "text": [
      "lr_confidence:  0.9910932687724556\n"
     ]
    }
   ],
   "source": [
    "# Evaluation der Genauigkeit, angegeben als Koeffizient des R2 der Vorhersage.\n",
    "# Bestmöglicher Wert = 1.0\n",
    "\n",
    "# Erstellen der Variable lr_confidence\n",
    "lr_confidence = lr.score(x_test, y_test)\n",
    "\n",
    "# Anzeigen der Genauigkeit R2 der Linearen Regression:\n",
    "print('lr_confidence: ', lr_confidence)"
   ]
  },
  {
   "cell_type": "code",
   "execution_count": 14,
   "metadata": {},
   "outputs": [
    {
     "name": "stdout",
     "output_type": "stream",
     "text": [
      "[[184.19]\n",
      " [183.86]\n",
      " [185.09]\n",
      " [172.56]\n",
      " [168.15]\n",
      " [169.39]\n",
      " [164.89]\n",
      " [159.39]\n",
      " [160.06]\n",
      " [152.19]]\n"
     ]
    }
   ],
   "source": [
    "# Erstellen der Variable x_forecast\n",
    "# Enthält ausschließlich die letzten n Zeilen von Adj. Close des ursprünglichen Dataframes\n",
    "# (denen kein Wert, sondern lediglich NaN gegenübersteht)\n",
    "\n",
    "x_forecast = np.array(df.drop(['Prediction'], 1))[-forecast_out:]\n",
    "print(x_forecast)"
   ]
  },
  {
   "cell_type": "code",
   "execution_count": 15,
   "metadata": {},
   "outputs": [
    {
     "name": "stdout",
     "output_type": "stream",
     "text": [
      "[185.08592156 184.75611041 185.9854065  173.46257727 169.05510106\n",
      " 170.29439142 165.79696672 160.3001143  160.96973087 153.10423478]\n",
      "[179.10121832 178.79170922 178.35281985 169.94897126 170.35816883\n",
      " 170.24829693 170.15864446 168.91022394 172.80305389 150.12171718]\n"
     ]
    }
   ],
   "source": [
    "# Vorhersage der Linearen Regression für die nächsten n Tage\n",
    "lr_prediction = lr.predict(x_forecast)\n",
    "print(lr_prediction)\n",
    "\n",
    "# Vorhersage des Support Vector Machines für die nächsten n Tage\n",
    "\n",
    "svm_prediction = svr_rbf.predict(x_forecast)\n",
    "print(svm_prediction)"
   ]
  },
  {
   "cell_type": "code",
   "execution_count": 50,
   "metadata": {},
   "outputs": [
    {
     "data": {
      "image/png": "[encoded data removed]",
      "text/plain": [
       "<Figure size 432x288 with 1 Axes>"
      ]
     },
     "metadata": {
      "needs_background": "light"
     },
     "output_type": "display_data"
    }
   ],
   "source": [
    "# Anzeigen der prognostizierten Kurse für die nächsten 'n'-Tage\n",
    "# Vorhersage auf Grundlage der Linearen Regression\n",
    "\n",
    "import matplotlib.pyplot as plt\n",
    "import numpy as np\n",
    "\n",
    "x = np.array(lr_prediction)\n",
    "y = np.array(svm_prediction)\n",
    "\n",
    "plt.plot(x)\n",
    "plt.title('Vorhersage Lineare Regression')\n",
    "plt.ylabel('Aktienkurs')\n",
    "plt.xlabel('Tage')\n",
    "plt.xticks(np.arange(forecast_out),)\n",
    "plt.show()"
   ]
  },
  {
   "cell_type": "code",
   "execution_count": 51,
   "metadata": {},
   "outputs": [
    {
     "data": {
      "image/png": "[encoded data removed]",
      "text/plain": [
       "<Figure size 432x288 with 1 Axes>"
      ]
     },
     "metadata": {
      "needs_background": "light"
     },
     "output_type": "display_data"
    }
   ],
   "source": [
    "# Anzeigen der prognostizierten Kurse für die nächsten 'n'-Tage\n",
    "# Vorhersage auf Grundlage des Support Vector Machines\n",
    "\n",
    "import matplotlib.pyplot as plt\n",
    "import numpy as np\n",
    "\n",
    "x = np.array(svm_prediction)\n",
    "\n",
    "plt.plot(x)\n",
    "plt.title('Vorhersage SVM')\n",
    "plt.ylabel('Aktienkurs')\n",
    "plt.xlabel('Tage')\n",
    "plt.xticks(np.arange(forecast_out),)\n",
    "plt.show()"
   ]
  },
  {
   "cell_type": "code",
   "execution_count": null,
   "metadata": {},
   "outputs": [],
   "source": []
  }
 ],
 "metadata": {
  "kernelspec": {
   "display_name": "Python 3.6",
   "language": "python",
   "name": "python36"
  },
  "language_info": {
   "codemirror_mode": {
    "name": "ipython",
    "version": 3
   },
   "file_extension": ".py",
   "mimetype": "text/x-python",
   "name": "python",
   "nbconvert_exporter": "python",
   "pygments_lexer": "ipython3",
   "version": "3.6.6"
  }
 },
 "nbformat": 4,
 "nbformat_minor": 2
}
